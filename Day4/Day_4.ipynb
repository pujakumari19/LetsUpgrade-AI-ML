{
 "cells": [
  {
   "cell_type": "markdown",
   "metadata": {},
   "source": [
    "### 1. Research on whether addition, subtraction, multiplication, division, floor division and modulooperations be performed on complex numbers. Based on your study, implement a Pythonprogram to demonstrate these operations.\n"
   ]
  },
  {
   "cell_type": "code",
   "execution_count": 4,
   "metadata": {},
   "outputs": [
    {
     "name": "stdout",
     "output_type": "stream",
     "text": [
      "Addition of two complex numbers :  (7+10j)\n",
      "Subtraction of two complex numbers :  (1+10j)\n",
      "Multiplication of two complex numbers :  (33-19j)\n",
      "Division of two complex numbers :  (0.5689655172413794-0.32758620689655177j)\n"
     ]
    }
   ],
   "source": [
    "print(\"Addition of two complex numbers : \",(4+3j)+(3+7j))\n",
    "print(\"Subtraction of two complex numbers : \",(4+3j)-(3-7j))\n",
    "print(\"Multiplication of two complex numbers : \",(4+3j)*(3-7j))\n",
    "print(\"Division of two complex numbers : \",(4+3j)/(3+7j))\n"
   ]
  },
  {
   "cell_type": "markdown",
   "metadata": {},
   "source": [
    "**Floor and modulo operation is not possible with complex numbers**"
   ]
  },
  {
   "cell_type": "markdown",
   "metadata": {},
   "source": [
    "### 2. Research on range() functions and its parameters. Implement a small program of your choice on the same."
   ]
  },
  {
   "cell_type": "markdown",
   "metadata": {},
   "source": [
    "*The range() function returns a sequence of numbers, starting from 0 by default, and increments by 1 (by default), and stops before a specified number. It does not include the last number. the syntax is* **range(start, stop, step)**.*The steps tells the incremented steps to be taken*"
   ]
  },
  {
   "cell_type": "code",
   "execution_count": 10,
   "metadata": {},
   "outputs": [
    {
     "name": "stdout",
     "output_type": "stream",
     "text": [
      "The number 0 is even\n",
      "The number 2 is even\n",
      "The number 4 is even\n",
      "The number 6 is even\n",
      "The number 8 is even\n",
      "The number 10 is even\n"
     ]
    }
   ],
   "source": [
    "for i in range(0,11,1):\n",
    "    if i%2==0:\n",
    "        print(\"The number {} is even\".format(i))"
   ]
  },
  {
   "cell_type": "markdown",
   "metadata": {},
   "source": [
    "### 3. Consider two numbers. Perform their subtraction and if the result of subtraction is greater than25, print their multiplication result else print their division result.\n"
   ]
  },
  {
   "cell_type": "code",
   "execution_count": 15,
   "metadata": {},
   "outputs": [
    {
     "name": "stdout",
     "output_type": "stream",
     "text": [
      "Enter first number 50\n",
      "Enter second number 10\n",
      "multiplication= 500\n"
     ]
    }
   ],
   "source": [
    "n1=int(input(\"Enter first number \"))\n",
    "n2=int(input(\"Enter second number \"))\n",
    "temp=n1-n2\n",
    "if temp>25:\n",
    "    print(\"multiplication=\",n1*n2)\n",
    "else:\n",
    "    print(\"division\",n1/n2)\n",
    "    \n"
   ]
  },
  {
   "cell_type": "markdown",
   "metadata": {},
   "source": [
    "### 4. Consider a list of 10 elements of integer values. If the number in the list is divisible by 2, print theresult as \"square of that number minus 2\".\n",
    "\n"
   ]
  },
  {
   "cell_type": "code",
   "execution_count": 16,
   "metadata": {},
   "outputs": [
    {
     "name": "stdout",
     "output_type": "stream",
     "text": [
      "2\n",
      "14\n",
      "34\n",
      "62\n",
      "98\n"
     ]
    }
   ],
   "source": [
    "l=[1,2,3,4,5,6,7,8,9,10]\n",
    "for i in l:\n",
    "    if(i%2==0):\n",
    "        print((i*i)-2)\n"
   ]
  },
  {
   "cell_type": "markdown",
   "metadata": {},
   "source": [
    "### 5. Consider a list of 10 elements. Print all the elements in the list which are greater than 7 when thatnumber is divided 2."
   ]
  },
  {
   "cell_type": "code",
   "execution_count": 17,
   "metadata": {},
   "outputs": [
    {
     "name": "stdout",
     "output_type": "stream",
     "text": [
      "8\n",
      "10\n"
     ]
    }
   ],
   "source": [
    "l=[1,2,3,4,5,6,7,8,9,10]\n",
    "for i in l:\n",
    "    if(i%2==0 and i>7):\n",
    "        print(i)\n",
    "        "
   ]
  }
 ],
 "metadata": {
  "kernelspec": {
   "display_name": "Python 3",
   "language": "python",
   "name": "python3"
  },
  "language_info": {
   "codemirror_mode": {
    "name": "ipython",
    "version": 3
   },
   "file_extension": ".py",
   "mimetype": "text/x-python",
   "name": "python",
   "nbconvert_exporter": "python",
   "pygments_lexer": "ipython3",
   "version": "3.7.6"
  }
 },
 "nbformat": 4,
 "nbformat_minor": 4
}
