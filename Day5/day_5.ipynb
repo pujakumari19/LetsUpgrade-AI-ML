{
 "cells": [
  {
   "cell_type": "markdown",
   "metadata": {},
   "source": [
    "## Write a Python program to find the first 20 non-even prime natural numbers.\n"
   ]
  },
  {
   "cell_type": "code",
   "execution_count": 1,
   "metadata": {},
   "outputs": [
    {
     "name": "stdout",
     "output_type": "stream",
     "text": [
      "enter range:20\n",
      "3 is prime \n",
      "5 is prime \n",
      "7 is prime \n",
      "11 is prime \n",
      "13 is prime \n",
      "17 is prime \n",
      "19 is prime \n",
      "23 is prime \n",
      "29 is prime \n",
      "31 is prime \n",
      "37 is prime \n",
      "41 is prime \n",
      "43 is prime \n",
      "47 is prime \n",
      "53 is prime \n",
      "59 is prime \n",
      "61 is prime \n",
      "67 is prime \n",
      "71 is prime \n",
      "73 is prime \n"
     ]
    }
   ],
   "source": [
    "first=int(input(\"enter range:\"))      \n",
    "a=0;\n",
    "num=2;\n",
    "while a < first:\n",
    "    for i in range(2,num):\n",
    "        if(num%i==0):\n",
    "            break\n",
    "    else:\n",
    "        if num%2!=0:\n",
    "            print(\"{} is prime \".format(num))\n",
    "            a+=1\n",
    "    num+=1\n",
    "    "
   ]
  },
  {
   "cell_type": "markdown",
   "metadata": {},
   "source": [
    "## Write a Python program to implement 15 functions of string."
   ]
  },
  {
   "cell_type": "code",
   "execution_count": 2,
   "metadata": {},
   "outputs": [
    {
     "name": "stdout",
     "output_type": "stream",
     "text": [
      "Python is awesome.\n",
      "1\n",
      "***python is AWesome.***\n",
      "False\n",
      "False\n",
      "True\n",
      "python is awesome.\n",
      "PYTHON IS AWESOME.\n",
      "PYTHON IS awESOME.\n",
      "pythonisAWesome.\n",
      "18\n",
      "97\n"
     ]
    }
   ],
   "source": [
    "string = \"python is AWesome.\"\n",
    "string1=\"123\"\n",
    "string2='a'\n",
    "print(string.capitalize())\n",
    "print(string.count(\"python\"))\n",
    "print(string.center(24, '*'))\n",
    "print(string.isalnum())\n",
    "print(string.isalpha())\n",
    "print(string1.isdigit())\n",
    "print(string.lower())\n",
    "print(string.upper())\n",
    "print(string.swapcase())\n",
    "print(string.replace(\" \",\"\"))\n",
    "print(len(string))\n",
    "print(ord(string2))"
   ]
  },
  {
   "cell_type": "markdown",
   "metadata": {},
   "source": [
    "## Write a Python program to check if the given string is a Palindrome or Anagram or None of them.Display the message accordingly to the user.\n"
   ]
  },
  {
   "cell_type": "code",
   "execution_count": 6,
   "metadata": {},
   "outputs": [
    {
     "name": "stdout",
     "output_type": "stream",
     "text": [
      "enter a string madam\n",
      "Palindrome\n"
     ]
    }
   ],
   "source": [
    "string=input(\"enter a string \")\n",
    "for i in range(0,int(len(string)/2)):\n",
    "    if(string[i]==string[len(string)-i-1]):\n",
    "        print(\"Palindrome\")\n",
    "        break\n",
    "else:\n",
    "    string2=input(\"enter a string \")\n",
    "    str1=sorted(string1)\n",
    "    str2=sorted(string2)\n",
    "    if(str1==str2):\n",
    "        print(\"Anagram\")\n",
    "    else:\n",
    "        print(\"none\")"
   ]
  },
  {
   "cell_type": "markdown",
   "metadata": {},
   "source": [
    "## Write a Python's user defined function that removes all the additional characters from the string and converts it finally to lower case using built-in lower(). eg: If the string is \"Dr. Darshan Ingle @AI-ML Trainer\", then the output be \"drdarshaningleaimltrainer\"."
   ]
  },
  {
   "cell_type": "code",
   "execution_count": 9,
   "metadata": {},
   "outputs": [
    {
     "name": "stdout",
     "output_type": "stream",
     "text": [
      "enter a string:Dr. Darshan Ingle @AI-ML Trainer\n",
      "drdarshaningleaimltrainer\n"
     ]
    }
   ],
   "source": [
    "string=input(\"enter a string:\")\n",
    "str1=string.lower()\n",
    "str2=\"\"\n",
    "for i in str1:\n",
    "    if i.isalnum():\n",
    "        str2=str2+i\n",
    "print(str2)"
   ]
  }
 ],
 "metadata": {
  "kernelspec": {
   "display_name": "Python 3",
   "language": "python",
   "name": "python3"
  },
  "language_info": {
   "codemirror_mode": {
    "name": "ipython",
    "version": 3
   },
   "file_extension": ".py",
   "mimetype": "text/x-python",
   "name": "python",
   "nbconvert_exporter": "python",
   "pygments_lexer": "ipython3",
   "version": "3.7.6"
  }
 },
 "nbformat": 4,
 "nbformat_minor": 4
}
